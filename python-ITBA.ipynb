{
 "cells": [
  {
   "cell_type": "code",
   "execution_count": 1,
   "metadata": {},
   "outputs": [
    {
     "name": "stdout",
     "output_type": "stream",
     "text": [
      "3\n",
      "3\n"
     ]
    }
   ],
   "source": [
    "#CLASE 1 \n",
    "\n",
    "#operador input() \n",
    "x = input()\n",
    "print(x)"
   ]
  },
  {
   "cell_type": "code",
   "execution_count": 2,
   "metadata": {},
   "outputs": [
    {
     "name": "stdout",
     "output_type": "stream",
     "text": [
      "3\n",
      "33\n"
     ]
    }
   ],
   "source": [
    "x = input()\n",
    "x = 2*x\n",
    "print(x)"
   ]
  },
  {
   "cell_type": "code",
   "execution_count": 4,
   "metadata": {},
   "outputs": [
    {
     "name": "stdout",
     "output_type": "stream",
     "text": [
      "1\n",
      "2\n",
      "3\n",
      "4\n",
      "5\n",
      "4\n",
      "3\n",
      "2\n",
      "1\n",
      "0\n"
     ]
    }
   ],
   "source": [
    "#ejercicio, imprimir 1234543210, usando 1 solo while\n",
    "\n",
    "#x=1\n",
    "#while x<6:\n",
    "#    print (x)\n",
    "#    x+=1\n",
    "#x-=1\n",
    "#while x>0:\n",
    "#    x-=1\n",
    "#    print(x)\n",
    "x=0\n",
    "while x<10:\n",
    "    x+=1\n",
    "    if x<=5:\n",
    "        print(x)\n",
    "    else:\n",
    "        print (10-x)"
   ]
  },
  {
   "cell_type": "code",
   "execution_count": 5,
   "metadata": {},
   "outputs": [
    {
     "name": "stdout",
     "output_type": "stream",
     "text": [
      "0\n",
      "1\n",
      "2\n",
      "3\n",
      "4\n",
      "5\n",
      "6\n",
      "7\n",
      "8\n",
      "9\n"
     ]
    }
   ],
   "source": [
    "#range(inicio, fin, step), x>=0, x<10\n",
    "for x in range(0,10,1):\n",
    "    print(x)"
   ]
  },
  {
   "cell_type": "code",
   "execution_count": 6,
   "metadata": {},
   "outputs": [
    {
     "name": "stdout",
     "output_type": "stream",
     "text": [
      "0\n",
      "1\n",
      "4\n",
      "9\n",
      "4\n",
      "5\n",
      "6\n"
     ]
    }
   ],
   "source": [
    "for x in range (0,7,1):\n",
    "    if x<4:\n",
    "        x=x**2\n",
    "        print(x)\n",
    "    else:\n",
    "        print (x)"
   ]
  },
  {
   "cell_type": "code",
   "execution_count": 9,
   "metadata": {},
   "outputs": [
    {
     "name": "stdout",
     "output_type": "stream",
     "text": [
      "a\n",
      "s\n",
      "ingresaste mal\n"
     ]
    }
   ],
   "source": [
    "u = input()\n",
    "p = input()\n",
    "def userPass(u,p):\n",
    "    if u=='Juan' and p=='12345_':\n",
    "        print('hola juan')\n",
    "    elif u=='Pablo' and p=='xDcFvGbHn':\n",
    "        print('hola pablo')\n",
    "    else:\n",
    "        print('ingresaste mal')\n",
    "        \n",
    "userPass(u,p)"
   ]
  },
  {
   "cell_type": "code",
   "execution_count": null,
   "metadata": {},
   "outputs": [],
   "source": [
    "\n",
    "def prom3 (n):\n",
    "    for i in range (0,3,1):\n",
    "        "
   ]
  }
 ],
 "metadata": {
  "kernelspec": {
   "display_name": "Python 3",
   "language": "python",
   "name": "python3"
  },
  "language_info": {
   "codemirror_mode": {
    "name": "ipython",
    "version": 3
   },
   "file_extension": ".py",
   "mimetype": "text/x-python",
   "name": "python",
   "nbconvert_exporter": "python",
   "pygments_lexer": "ipython3",
   "version": "3.7.1"
  }
 },
 "nbformat": 4,
 "nbformat_minor": 2
}
